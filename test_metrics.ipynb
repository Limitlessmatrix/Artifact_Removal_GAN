{
 "cells": [
  {
   "cell_type": "code",
   "execution_count": 1,
   "metadata": {
    "scrolled": true
   },
   "outputs": [],
   "source": [
    "import os\n",
    "import sys\n",
    "os.environ['CUDA_VISIBLE_DEVICES']='1'\n",
    "\n",
    "from fastai import *\n",
    "from fastai.vision import *\n",
    "from superRes.generators import *\n",
    "from superRes.critics import *\n",
    "from superRes.dataset import *\n",
    "from superRes.loss import *\n",
    "from superRes.save import *\n",
    "from superRes.fid_loss import *\n",
    "from superRes.ssim import *\n",
    "from superRes.metrics import *\n",
    "from pathlib import Path\n",
    "import torch.nn.functional as F\n",
    "\n",
    "import torchvision\n",
    "import geffnet # efficient/ mobile net"
   ]
  },
  {
   "cell_type": "code",
   "execution_count": 2,
   "metadata": {},
   "outputs": [],
   "source": [
    "def get_DIV2k_data_QF(pLow, bs:int, sz:int):\n",
    "    \"\"\"Given the path of low resolution images\n",
    "       returns a databunch\n",
    "    \"\"\"\n",
    "    src = ImageImageList.from_folder(pLow).split_by_idxs(train_idx=list(range(0,800)), valid_idx=list(range(800,900)))\n",
    "    \n",
    "    data = (src.label_from_func(lambda x: path_fullRes/(x.name.replace(\".jpg\", \".png\"))).transform(\n",
    "            get_transforms(\n",
    "                max_rotate=30,\n",
    "                max_lighting=.4,\n",
    "                max_warp=.4\n",
    "            ),\n",
    "            size=sz,\n",
    "            tfm_y=True,\n",
    "        ).databunch(bs=bs, num_workers=8, no_check=True).normalize(imagenet_stats, do_y=True))\n",
    "    data.c = 3\n",
    "    return data"
   ]
  },
  {
   "cell_type": "code",
   "execution_count": 3,
   "metadata": {},
   "outputs": [],
   "source": [
    "def do_fit(learn, epochs,save_name, lrs=slice(1e-3), pct_start=0.9):\n",
    "    learn.fit_one_cycle(epochs, lrs, pct_start=pct_start)\n",
    "    learn.save(save_name)\n",
    "    learn.show_results(rows=1, imgsize=7)"
   ]
  },
  {
   "cell_type": "code",
   "execution_count": 4,
   "metadata": {},
   "outputs": [],
   "source": [
    "path = Path('./dataset/')\n",
    "\n",
    "path_fullRes = path/'DIV2K_train_HR'\n",
    "path_lowRes_128 = path/'DIV2K_train_LR_128'\n",
    "path_lowRes_256 = path/'DIV2K_train_LR_256'\n",
    "\n",
    "proj_id = 'unet_superRes_mobilenetV3_SSIM'\n",
    "\n",
    "gen_name = proj_id + '_gen'\n",
    "crit_name = proj_id + '_crit'\n",
    "\n",
    "nf_factor = 2\n",
    "pct_start = 1e-8"
   ]
  },
  {
   "cell_type": "code",
   "execution_count": 5,
   "metadata": {},
   "outputs": [
    {
     "name": "stdout",
     "output_type": "stream",
     "text": [
      "dataset/DIV2K_train_HR\n"
     ]
    }
   ],
   "source": [
    "print(path_fullRes)"
   ]
  },
  {
   "cell_type": "code",
   "execution_count": 6,
   "metadata": {},
   "outputs": [],
   "source": [
    "model = geffnet.mobilenetv3_small_minimal_100"
   ]
  },
  {
   "cell_type": "code",
   "execution_count": 7,
   "metadata": {},
   "outputs": [],
   "source": [
    "loss_func = F.mse_loss"
   ]
  },
  {
   "cell_type": "markdown",
   "metadata": {},
   "source": [
    "# 128px"
   ]
  },
  {
   "cell_type": "code",
   "execution_count": 8,
   "metadata": {},
   "outputs": [],
   "source": [
    "bs=10\n",
    "sz=256\n",
    "lr = 1e-2\n",
    "wd = 1e-3\n",
    "epochs = 1"
   ]
  },
  {
   "cell_type": "code",
   "execution_count": 9,
   "metadata": {},
   "outputs": [],
   "source": [
    "data_gen = get_DIV2k_data_QF(path_lowRes_128, bs=bs, sz=sz)"
   ]
  },
  {
   "cell_type": "code",
   "execution_count": 10,
   "metadata": {},
   "outputs": [],
   "source": [
    "x, y = data_gen.one_batch()"
   ]
  },
  {
   "cell_type": "markdown",
   "metadata": {},
   "source": [
    "# LPIPS"
   ]
  },
  {
   "cell_type": "code",
   "execution_count": 11,
   "metadata": {},
   "outputs": [
    {
     "name": "stdout",
     "output_type": "stream",
     "text": [
      "Setting up Perceptual loss...\n",
      "Loading model from: /data/students_home/fmameli/anaconda3/envs/fastai/lib/python3.6/site-packages/perceptual_similarity/weights/v0.1/alex.pth\n",
      "...[net-lin [alex]] initialized\n",
      "...Done\n"
     ]
    }
   ],
   "source": [
    "mod = lpips.PerceptualLoss(model='net-lin', net='alex', use_gpu=True, gpu_ids=[0])\n",
    "d = mod.forward(x,y);"
   ]
  },
  {
   "cell_type": "code",
   "execution_count": 12,
   "metadata": {},
   "outputs": [
    {
     "data": {
      "text/plain": [
       "torch.Size([10, 1, 1, 1])"
      ]
     },
     "execution_count": 12,
     "metadata": {},
     "output_type": "execute_result"
    }
   ],
   "source": [
    "d.size()"
   ]
  },
  {
   "cell_type": "code",
   "execution_count": 13,
   "metadata": {},
   "outputs": [
    {
     "data": {
      "text/plain": [
       "tensor(0.3301, device='cuda:0', grad_fn=<MeanBackward0>)"
      ]
     },
     "execution_count": 13,
     "metadata": {},
     "output_type": "execute_result"
    }
   ],
   "source": [
    "d.mean()"
   ]
  },
  {
   "cell_type": "markdown",
   "metadata": {},
   "source": [
    "# Brisque"
   ]
  },
  {
   "cell_type": "code",
   "execution_count": 14,
   "metadata": {},
   "outputs": [],
   "source": [
    "from brisque import BRISQUE"
   ]
  },
  {
   "cell_type": "code",
   "execution_count": 15,
   "metadata": {},
   "outputs": [],
   "source": [
    "brisque = BRISQUE()"
   ]
  },
  {
   "cell_type": "code",
   "execution_count": 16,
   "metadata": {},
   "outputs": [
    {
     "data": {
      "text/plain": [
       "torch.Size([3, 256, 256])"
      ]
     },
     "execution_count": 16,
     "metadata": {},
     "output_type": "execute_result"
    }
   ],
   "source": [
    "x[0].shape"
   ]
  },
  {
   "cell_type": "code",
   "execution_count": 17,
   "metadata": {},
   "outputs": [
    {
     "data": {
      "text/plain": [
       "(256, 256, 3)"
      ]
     },
     "execution_count": 17,
     "metadata": {},
     "output_type": "execute_result"
    }
   ],
   "source": [
    "x[0].permute(1, 2, 0).numpy().shape"
   ]
  },
  {
   "cell_type": "code",
   "execution_count": 18,
   "metadata": {
    "scrolled": false
   },
   "outputs": [
    {
     "data": {
      "text/plain": [
       "113.3821487815103"
      ]
     },
     "execution_count": 18,
     "metadata": {},
     "output_type": "execute_result"
    }
   ],
   "source": [
    "brisque.get_score(x[0].permute(1, 2, 0).numpy())"
   ]
  },
  {
   "cell_type": "code",
   "execution_count": 19,
   "metadata": {},
   "outputs": [],
   "source": [
    "values = []\n",
    "for img in x:\n",
    "    score = brisque.get_score(img.permute(1,2,0).numpy())\n",
    "    values.append(score)"
   ]
  },
  {
   "cell_type": "code",
   "execution_count": 20,
   "metadata": {},
   "outputs": [
    {
     "data": {
      "text/plain": [
       "10"
      ]
     },
     "execution_count": 20,
     "metadata": {},
     "output_type": "execute_result"
    }
   ],
   "source": [
    "len(values)"
   ]
  },
  {
   "cell_type": "markdown",
   "metadata": {},
   "source": [
    "# NIQE"
   ]
  },
  {
   "cell_type": "code",
   "execution_count": 21,
   "metadata": {},
   "outputs": [],
   "source": [
    "%load_ext autoreload"
   ]
  },
  {
   "cell_type": "code",
   "execution_count": 22,
   "metadata": {},
   "outputs": [],
   "source": [
    "%autoreload 2"
   ]
  },
  {
   "cell_type": "code",
   "execution_count": 23,
   "metadata": {},
   "outputs": [],
   "source": [
    "from skvideo.measure.niqe import *\n",
    "from torchvision import transforms"
   ]
  },
  {
   "cell_type": "code",
   "execution_count": 24,
   "metadata": {},
   "outputs": [
    {
     "data": {
      "text/plain": [
       "torch.Size([256, 256])"
      ]
     },
     "execution_count": 24,
     "metadata": {},
     "output_type": "execute_result"
    }
   ],
   "source": [
    "x[0][0].shape"
   ]
  },
  {
   "cell_type": "code",
   "execution_count": 25,
   "metadata": {},
   "outputs": [
    {
     "data": {
      "image/png": "[encoded data removed]",
      "text/plain": [
       "<PIL.Image.Image image mode=RGB size=256x256 at 0x7F1DFB4D5C18>"
      ]
     },
     "execution_count": 25,
     "metadata": {},
     "output_type": "execute_result"
    }
   ],
   "source": [
    "transforms.ToPILImage()(x[0][0]).convert(\"RGB\")"
   ]
  },
  {
   "cell_type": "code",
   "execution_count": 26,
   "metadata": {},
   "outputs": [
    {
     "data": {
      "text/plain": [
       "[array([26.6615], dtype=float32),\n",
       " array([24.657578], dtype=float32),\n",
       " array([26.654642], dtype=float32),\n",
       " array([25.927893], dtype=float32),\n",
       " array([26.962053], dtype=float32),\n",
       " array([25.63817], dtype=float32),\n",
       " array([26.0426], dtype=float32),\n",
       " array([26.07195], dtype=float32),\n",
       " array([26.602365], dtype=float32),\n",
       " array([26.7043], dtype=float32)]"
      ]
     },
     "execution_count": 26,
     "metadata": {},
     "output_type": "execute_result"
    }
   ],
   "source": [
    "values = []\n",
    "for img in x:\n",
    "    score = niqe(img[0].numpy())\n",
    "    values.append(score)\n",
    "values"
   ]
  },
  {
   "cell_type": "code",
   "execution_count": 27,
   "metadata": {
    "scrolled": true
   },
   "outputs": [
    {
     "data": {
      "text/plain": [
       "array([26.6615], dtype=float32)"
      ]
     },
     "execution_count": 27,
     "metadata": {},
     "output_type": "execute_result"
    }
   ],
   "source": [
    "niqe(x[0][0].numpy())"
   ]
  },
  {
   "cell_type": "code",
   "execution_count": 28,
   "metadata": {},
   "outputs": [],
   "source": [
    "bs=40\n",
    "sz=32\n",
    "lr = 1e-2\n",
    "wd = 1e-3\n",
    "epochs = 1"
   ]
  },
  {
   "cell_type": "code",
   "execution_count": 29,
   "metadata": {},
   "outputs": [],
   "source": [
    "data_gen = get_DIV2k_data_QF(path_lowRes_128, bs=bs, sz=sz)"
   ]
  },
  {
   "cell_type": "code",
   "execution_count": 30,
   "metadata": {},
   "outputs": [],
   "source": [
    "learn_gen = gen_learner_wide(data=data_gen,\n",
    "                             gen_loss=loss_func,\n",
    "                             arch = model,\n",
    "                             nf_factor=nf_factor)"
   ]
  },
  {
   "cell_type": "code",
   "execution_count": 31,
   "metadata": {},
   "outputs": [],
   "source": [
    "class BRISQUE_Metric_std(Callback):\n",
    "    def __init__(self):\n",
    "        super().__init__()\n",
    "        self.name = \"std_brisque\"\n",
    "        self.brisque = BRISQUE()\n",
    "\n",
    "    def on_epoch_begin(self, **kwargs):\n",
    "        self.values = []\n",
    "\n",
    "    def on_batch_begin(self, last_input, last_target, **kwargs):\n",
    "        for img in last_input:\n",
    "            score = self.brisque.get_score(img.permute(1, 2, 0).cpu().numpy())\n",
    "            self.values.append(score)\n",
    "        \n",
    "        for img in last_target:\n",
    "            score = self.brisque.get_score(img.permute(1, 2, 0).cpu().numpy())\n",
    "            self.values.append(score)\n",
    "\n",
    "    def on_epoch_end(self, last_metrics, **kwargs):\n",
    "        metrics = [sum(self.input_values) / len(self.input_values),\n",
    "                   sum(self.target_values) / len(self.target_values)]\n",
    "        return add_metrics(last_metrics, [metrics])"
   ]
  },
  {
   "cell_type": "code",
   "execution_count": 32,
   "metadata": {},
   "outputs": [],
   "source": [
    "data_gen = get_DIV2k_data_QF(path_lowRes_128, bs=10, sz=256)"
   ]
  },
  {
   "cell_type": "code",
   "execution_count": 33,
   "metadata": {},
   "outputs": [],
   "source": [
    "learn_gen = gen_learner_wide(data=data_gen,\n",
    "                             gen_loss=loss_func,\n",
    "                             arch = model,\n",
    "                             nf_factor=nf_factor)"
   ]
  },
  {
   "cell_type": "code",
   "execution_count": 34,
   "metadata": {},
   "outputs": [
    {
     "name": "stdout",
     "output_type": "stream",
     "text": [
      "Setting up Perceptual loss...\n",
      "Loading model from: /data/students_home/fmameli/anaconda3/envs/fastai/lib/python3.6/site-packages/perceptual_similarity/weights/v0.1/alex.pth\n",
      "...[net-lin [alex]] initialized\n",
      "...Done\n",
      "Setting up Perceptual loss...\n",
      "Loading model from: /data/students_home/fmameli/anaconda3/envs/fastai/lib/python3.6/site-packages/perceptual_similarity/weights/v0.1/alex.pth\n",
      "...[net-lin [alex]] initialized\n",
      "...Done\n"
     ]
    }
   ],
   "source": [
    "learn_gen.metrics.append(LPIPS_Metric_gen())\n",
    "learn_gen.metrics.append(LPIPS_Metric_input())\n",
    "learn_gen.metrics.append(BRISQUE_Metric_gen())\n",
    "learn_gen.metrics.append(BRISQUE_Metric_input())\n",
    "learn_gen.metrics.append(BRISQUE_Metric_target())\n",
    "learn_gen.metrics.append(NIQE_Metric_gen())\n",
    "learn_gen.metrics.append(NIQE_Metric_input())\n",
    "learn_gen.metrics.append(NIQE_Metric_target())"
   ]
  },
  {
   "cell_type": "code",
   "execution_count": 35,
   "metadata": {},
   "outputs": [
    {
     "data": {
      "text/plain": [
       "[LPIPS_Metric_gen,\n",
       " LPIPS_Metric_input,\n",
       " BRISQUE_Metric_gen,\n",
       " BRISQUE_Metric_input,\n",
       " BRISQUE_Metric_target,\n",
       " NIQE_Metric_gen,\n",
       " NIQE_Metric_input,\n",
       " NIQE_Metric_target]"
      ]
     },
     "execution_count": 35,
     "metadata": {},
     "output_type": "execute_result"
    }
   ],
   "source": [
    "learn_gen.metrics"
   ]
  },
  {
   "cell_type": "code",
   "execution_count": 36,
   "metadata": {
    "scrolled": true
   },
   "outputs": [
    {
     "data": {
      "text/html": [
       "<table border=\"1\" class=\"dataframe\">\n",
       "  <thead>\n",
       "    <tr style=\"text-align: left;\">\n",
       "      <th>epoch</th>\n",
       "      <th>train_loss</th>\n",
       "      <th>valid_loss</th>\n",
       "      <th>gen_lpips</th>\n",
       "      <th>in_lpips</th>\n",
       "      <th>brisque gen</th>\n",
       "      <th>in</th>\n",
       "      <th>tar</th>\n",
       "      <th>niqe gen</th>\n",
       "      <th>in</th>\n",
       "      <th>tar</th>\n",
       "      <th>time</th>\n",
       "    </tr>\n",
       "  </thead>\n",
       "  <tbody>\n",
       "    <tr>\n",
       "      <td>0</td>\n",
       "      <td>0.360985</td>\n",
       "      <td>0.160866</td>\n",
       "      <td>0.472838</td>\n",
       "      <td>0.408446</td>\n",
       "      <td>77.331652</td>\n",
       "      <td>96.264983</td>\n",
       "      <td>79.548818</td>\n",
       "      <td>19.697727</td>\n",
       "      <td>22.641680</td>\n",
       "      <td>19.608082</td>\n",
       "      <td>01:47</td>\n",
       "    </tr>\n",
       "  </tbody>\n",
       "</table>"
      ],
      "text/plain": [
       "<IPython.core.display.HTML object>"
      ]
     },
     "metadata": {},
     "output_type": "display_data"
    }
   ],
   "source": [
    "learn_gen.fit_one_cycle(1, lr, pct_start=.9)"
   ]
  }
 ],
 "metadata": {
  "kernelspec": {
   "display_name": "Python 3",
   "language": "python",
   "name": "python3"
  },
  "language_info": {
   "codemirror_mode": {
    "name": "ipython",
    "version": 3
   },
   "file_extension": ".py",
   "mimetype": "text/x-python",
   "name": "python",
   "nbconvert_exporter": "python",
   "pygments_lexer": "ipython3",
   "version": "3.6.9"
  }
 },
 "nbformat": 4,
 "nbformat_minor": 2
}
