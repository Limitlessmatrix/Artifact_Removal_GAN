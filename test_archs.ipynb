{
 "cells": [
  {
   "cell_type": "code",
   "execution_count": null,
   "metadata": {},
   "outputs": [],
   "source": [
    "import os\n",
    "os.environ['CUDA_VISIBLE_DEVICES']='1'\n",
    "\n",
    "from fastai import *\n",
    "from fastai.vision import *\n",
    "from superRes.generators import *\n",
    "from superRes.critics import *\n",
    "from superRes.dataset import *\n",
    "from superRes.loss import *\n",
    "from superRes.save import *\n",
    "from superRes.fid_loss import *\n",
    "from superRes.ssim import *\n",
    "from PIL import Image, ImageDraw, ImageFont\n",
    "from PIL import ImageFile\n",
    "from pathlib import Path\n",
    "\n",
    "import torchvision\n",
    "import geffnet # efficient/ mobile net"
   ]
  },
  {
   "cell_type": "code",
   "execution_count": null,
   "metadata": {
    "slideshow": {
     "slide_type": "-"
    }
   },
   "outputs": [],
   "source": [
    "def get_data(bs:int, sz:int, keep_pct:float):\n",
    "    return get_databunch(sz=sz, bs=bs, crappy_path=path_lowRes, \n",
    "                         good_path=path_fullRes, \n",
    "                         random_seed=None, keep_pct=keep_pct)\n",
    "\n",
    "def get_DIV2k_data(pLow, bs:int, sz:int):\n",
    "    \"\"\"Given the path of low resolution images with a proper suffix\n",
    "       returns a databunch\n",
    "    \"\"\"\n",
    "    suffixes = {\"dataset/DIV2K_train_LR_x8\": \"x8\",\n",
    "                \"dataset/DIV2K_train_LR_difficult\":\"x4d\", \n",
    "                \"dataset/DIV2K_train_LR_mild\":\"x4m\"}\n",
    "    lowResSuffix = suffixes[str(pLow)]\n",
    "    src = ImageImageList.from_folder(pLow).split_by_idxs(train_idx=list(range(0,800)), valid_idx=list(range(800,900)))\n",
    "    \n",
    "    data = (src.label_from_func(lambda x: path_fullRes/(x.name).replace(lowResSuffix, '')).transform(\n",
    "            get_transforms(\n",
    "                flip_vert=True,\n",
    "                max_rotate=30,\n",
    "                max_zoom=3.,\n",
    "                max_lighting=.4,\n",
    "                max_warp=.4,\n",
    "                p_affine=.85\n",
    "            ),\n",
    "            size=sz,\n",
    "            tfm_y=True,\n",
    "        ).databunch(bs=bs, num_workers=8, no_check=True).normalize(imagenet_stats, do_y=True))\n",
    "    data.c = 3\n",
    "    return data\n",
    "\n",
    "def create_training_images(fn, i, p_hr, p_lr, size):\n",
    "    \"\"\"Create low quality images from folder p_hr in p_lr\"\"\"\n",
    "    dest = p_lr/fn.relative_to(p_hr)\n",
    "    dest.parent.mkdir(parents=True, exist_ok=True)\n",
    "    img = PIL.Image.open(fn)\n",
    "    targ_sz = resize_to(img, size, use_min=True)\n",
    "    img = img.resize(targ_sz, resample=PIL.Image.BILINEAR).convert('RGB')\n",
    "    img.save(dest, quality=60)"
   ]
  },
  {
   "cell_type": "code",
   "execution_count": null,
   "metadata": {},
   "outputs": [],
   "source": [
    "path = Path('./dataset/')\n",
    "\n",
    "path_fullRes = path/'DIV2K_train_HR'\n",
    "path_lowRes_diff = path/'DIV2K_train_LR_difficult' # suffix \"x4d\" ~300px\n",
    "path_lowRes_mild = path/'DIV2K_train_LR_mild' # suffix \"x4m\" ~300px\n",
    "path_lowRes_x8 = path/'DIV2K_train_LR_x8' # suffix \"x8\" ~150px\n",
    "\n",
    "\n",
    "proj_id = 'unet_superRes_mobilenetV3_FID'\n",
    "\n",
    "gen_name = proj_id + '_gen'\n",
    "crit_name = proj_id + '_crit'\n",
    "\n",
    "nf_factor = 2\n",
    "pct_start = 1e-8"
   ]
  },
  {
   "cell_type": "code",
   "execution_count": null,
   "metadata": {},
   "outputs": [],
   "source": [
    "bs=25\n",
    "sz=128\n",
    "lr = 1e-3\n",
    "wd = 1e-3\n",
    "keep_pct=1.0\n",
    "epochs = 10"
   ]
  },
  {
   "cell_type": "code",
   "execution_count": null,
   "metadata": {},
   "outputs": [],
   "source": [
    "data_gen = get_DIV2k_data(path_lowRes_x8, bs=bs, sz=sz)"
   ]
  },
  {
   "cell_type": "code",
   "execution_count": null,
   "metadata": {},
   "outputs": [],
   "source": [
    "res = models.resnet34\n",
    "\n",
    "print(res.__module__)\n",
    "help(res)"
   ]
  },
  {
   "cell_type": "code",
   "execution_count": null,
   "metadata": {},
   "outputs": [],
   "source": [
    "shuffle = models.shufflenet_v2_x2_0 #non è supportato da unet_learner\n",
    "print(type(shuffle))\n",
    "# dir(shuffle)"
   ]
  },
  {
   "cell_type": "code",
   "execution_count": null,
   "metadata": {},
   "outputs": [],
   "source": [
    "efficient = geffnet.efficientnet_b5\n",
    "print(type(efficient))\n",
    "help(efficient)"
   ]
  },
  {
   "cell_type": "code",
   "execution_count": null,
   "metadata": {
    "scrolled": true
   },
   "outputs": [],
   "source": [
    "mobile = geffnet.mobilenetv3_100\n",
    "print(type(mobile))\n",
    "help(mobile)"
   ]
  },
  {
   "cell_type": "code",
   "execution_count": null,
   "metadata": {},
   "outputs": [],
   "source": [
    "from efficientnet_pytorch import EfficientNet\n",
    "\n",
    "def get_EfficientNet(pretrained=False, **kwargs):\n",
    "    return EfficientNet.from_pretrained('efficientnet-b2', num_classes=data_gen.c)\n",
    "\n",
    "effNet = get_EfficientNet; effNet"
   ]
  },
  {
   "cell_type": "code",
   "execution_count": null,
   "metadata": {},
   "outputs": [],
   "source": [
    "mobileV2 = fastai.vision.models.resnet34"
   ]
  },
  {
   "cell_type": "code",
   "execution_count": null,
   "metadata": {},
   "outputs": [],
   "source": [
    "# help(cnn_learner)"
   ]
  },
  {
   "cell_type": "code",
   "execution_count": null,
   "metadata": {},
   "outputs": [],
   "source": [
    "# cnn = cnn_learner(data=data_gen, base_arch=res)"
   ]
  },
  {
   "cell_type": "code",
   "execution_count": null,
   "metadata": {},
   "outputs": [],
   "source": [
    "# cnn.summary()"
   ]
  },
  {
   "cell_type": "code",
   "execution_count": null,
   "metadata": {},
   "outputs": [],
   "source": [
    "learn_gen = gen_learner_wide(data=data_gen, arch=mobileV2, gen_loss=FeatureLoss(), nf_factor=3)\n",
    "\n",
    "learn_gen.summary()"
   ]
  }
 ],
 "metadata": {
  "kernelspec": {
   "display_name": "Python 3",
   "language": "python",
   "name": "python3"
  },
  "language_info": {
   "codemirror_mode": {
    "name": "ipython",
    "version": 3
   },
   "file_extension": ".py",
   "mimetype": "text/x-python",
   "name": "python",
   "nbconvert_exporter": "python",
   "pygments_lexer": "ipython3",
   "version": "3.6.9"
  }
 },
 "nbformat": 4,
 "nbformat_minor": 2
}
