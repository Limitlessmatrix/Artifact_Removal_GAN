{
 "cells": [
  {
   "cell_type": "code",
   "execution_count": null,
   "metadata": {},
   "outputs": [],
   "source": [
    "import os\n",
    "os.environ['CUDA_VISIBLE_DEVICES']='0'\n",
    "\n",
    "import fastai\n",
    "from fastai import *\n",
    "from fastai.vision import *\n",
    "from fastai.callbacks.tensorboard import *\n",
    "from fastai.vision.gan import *\n",
    "from superRes.generators import *\n",
    "from superRes.critics import *\n",
    "from superRes.dataset import *\n",
    "from superRes.loss import *\n",
    "from superRes.save import *\n",
    "from PIL import Image, ImageDraw, ImageFont\n",
    "from PIL import ImageFile\n",
    "\n",
    "import torchvision\n",
    "\n",
    "import geffnet # efficient/ mobile net"
   ]
  },
  {
   "cell_type": "code",
   "execution_count": null,
   "metadata": {},
   "outputs": [],
   "source": [
    "def get_data(bs:int, sz:int, keep_pct:float):\n",
    "    return get_databunch(sz=sz, bs=bs, crappy_path=path_lowRes, \n",
    "                         good_path=path_fullRes, \n",
    "                         random_seed=None, keep_pct=keep_pct)\n",
    "\n",
    "def create_training_images(fn, i, p_hr, p_lr, size):\n",
    "    \"\"\"Create low quality images from folder p_hr in p_lr\"\"\"\n",
    "    dest = p_lr/fn.relative_to(p_hr)\n",
    "    dest.parent.mkdir(parents=True, exist_ok=True)\n",
    "    img = PIL.Image.open(fn)\n",
    "    targ_sz = resize_to(img, size, use_min=True)\n",
    "    img = img.resize(targ_sz, resample=PIL.Image.BILINEAR).convert('RGB')\n",
    "    img.save(dest, quality=60) "
   ]
  },
  {
   "cell_type": "code",
   "execution_count": null,
   "metadata": {},
   "outputs": [],
   "source": [
    "def do_fit(learn, epochs,save_name, lrs=slice(1e-3), pct_start=0.9):\n",
    "    learn.fit_one_cycle(epochs, lrs, pct_start=pct_start)\n",
    "    learn.save(save_name)\n",
    "    learn.show_results(rows=1, imgsize=5)"
   ]
  },
  {
   "cell_type": "code",
   "execution_count": null,
   "metadata": {},
   "outputs": [],
   "source": [
    "path = untar_data(URLs.PETS)\n",
    "\n",
    "path_fullRes = path/'images'\n",
    "path_lowRes = path/'lowRes-96'\n",
    "path_medRes = path/'lowRes-256'\n",
    "\n",
    "proj_id = 'unet_superRes'\n",
    "\n",
    "gen_name = proj_id + '_gen'\n",
    "crit_name = proj_id + '_crit'\n",
    "\n",
    "TENSORBOARD_PATH = Path('data/tensorboard/' + proj_id)\n",
    "\n",
    "nf_factor = 2\n",
    "pct_start = 1e-8"
   ]
  },
  {
   "cell_type": "code",
   "execution_count": null,
   "metadata": {},
   "outputs": [],
   "source": [
    "print(path_fullRes)"
   ]
  },
  {
   "cell_type": "code",
   "execution_count": null,
   "metadata": {
    "scrolled": true
   },
   "outputs": [],
   "source": [
    "sets = [(path_lowRes, 96),(path_medRes, 256)]\n",
    "il = ImageList.from_folder(path_fullRes)\n",
    "\n",
    "for p,size in sets:\n",
    "    if not p.exists():\n",
    "        print(f\"resizing to {size} into {p}\")\n",
    "        parallel(partial(create_training_images, p_hr=path_fullRes, p_lr=p, size=size), il.items)"
   ]
  },
  {
   "cell_type": "code",
   "execution_count": null,
   "metadata": {},
   "outputs": [],
   "source": [
    "model = geffnet.mobilenetv3_100\n",
    "# model = models.resnet34"
   ]
  },
  {
   "cell_type": "markdown",
   "metadata": {},
   "source": [
    "# 128px"
   ]
  },
  {
   "cell_type": "code",
   "execution_count": null,
   "metadata": {},
   "outputs": [],
   "source": [
    "bs=25\n",
    "sz=128\n",
    "lr = 1e-3\n",
    "wd = 1e-3\n",
    "keep_pct=1.0\n",
    "epochs = 10"
   ]
  },
  {
   "cell_type": "code",
   "execution_count": null,
   "metadata": {},
   "outputs": [],
   "source": [
    "data_gen = get_data(bs=bs, sz=sz, keep_pct=keep_pct)"
   ]
  },
  {
   "cell_type": "code",
   "execution_count": null,
   "metadata": {
    "scrolled": false
   },
   "outputs": [],
   "source": [
    "data_gen.show_batch(ds_type=DatasetType.Valid, rows=1, figsize=(9,9))"
   ]
  },
  {
   "cell_type": "code",
   "execution_count": null,
   "metadata": {},
   "outputs": [],
   "source": [
    "learn_gen = gen_learner_wide(data=data_gen,\n",
    "                             gen_loss=FeatureLoss(),\n",
    "                             arch = model,\n",
    "                             nf_factor=nf_factor)"
   ]
  },
  {
   "cell_type": "code",
   "execution_count": null,
   "metadata": {},
   "outputs": [],
   "source": [
    "wandbCallbacks = False\n",
    "\n",
    "if wandbCallbacks:\n",
    "    wandb.init(project='SuperRes', id=\"gen_128\")\n",
    "\n",
    "    wandb.config.batch_size = bs\n",
    "    wandb.config.img_size = (sz, sz)\n",
    "    wandb.config.learning_rate = lr\n",
    "    wandb.config.weight_decay = wd\n",
    "    wandb.config.num_epochs = epochs\n",
    "    \n",
    "    learn_gen.callback_fns.append(partial(WandbCallback, input_type='images'))"
   ]
  },
  {
   "cell_type": "code",
   "execution_count": null,
   "metadata": {
    "scrolled": true
   },
   "outputs": [],
   "source": [
    "# learn_gen.lr_find()\n",
    "# learn_gen.recorder.plot()\n",
    "# learn_gen.summary()"
   ]
  },
  {
   "cell_type": "code",
   "execution_count": null,
   "metadata": {
    "scrolled": true
   },
   "outputs": [],
   "source": [
    "do_fit(learn_gen, epochs, gen_name+\"_128px_0\", slice(lr*10))"
   ]
  },
  {
   "cell_type": "code",
   "execution_count": null,
   "metadata": {},
   "outputs": [],
   "source": [
    "learn_gen.unfreeze()"
   ]
  },
  {
   "cell_type": "code",
   "execution_count": null,
   "metadata": {
    "scrolled": true
   },
   "outputs": [],
   "source": [
    "do_fit(learn_gen, epochs, gen_name+\"_128px_1\", slice(1e-5, lr))"
   ]
  },
  {
   "cell_type": "markdown",
   "metadata": {},
   "source": [
    "# 256px"
   ]
  },
  {
   "cell_type": "code",
   "execution_count": null,
   "metadata": {},
   "outputs": [],
   "source": [
    "learn_gen = None\n",
    "gc.collect()"
   ]
  },
  {
   "cell_type": "code",
   "execution_count": null,
   "metadata": {},
   "outputs": [],
   "source": [
    "bs=10\n",
    "sz=256\n",
    "lr = 1e-3\n",
    "wd = 1e-3\n",
    "keep_pct=1.0\n",
    "epochs = 10"
   ]
  },
  {
   "cell_type": "code",
   "execution_count": null,
   "metadata": {},
   "outputs": [],
   "source": [
    "data_gen = get_data(bs, sz, keep_pct=keep_pct)"
   ]
  },
  {
   "cell_type": "code",
   "execution_count": null,
   "metadata": {},
   "outputs": [],
   "source": [
    "learn_gen = gen_learner_wide(data=data_gen, gen_loss=FeatureLoss(), arch = model, nf_factor=nf_factor)\n",
    "learn_gen.load(gen_name+\"_128px_1\");\n",
    "learn_gen.data = data_gen\n",
    "learn_gen.freeze()"
   ]
  },
  {
   "cell_type": "code",
   "execution_count": null,
   "metadata": {},
   "outputs": [],
   "source": [
    "wandbCallbacks = False\n",
    "\n",
    "if wandbCallbacks:\n",
    "    wandb.init(project='SuperRes', id=\"gen_256\")\n",
    "\n",
    "    wandb.config.batch_size = bs\n",
    "    wandb.config.img_size = (sz, sz)\n",
    "    wandb.config.learning_rate = lr\n",
    "    wandb.config.weight_decay = wd\n",
    "    wandb.config.num_epochs = epochs\n",
    "    \n",
    "    learn_gen.callback_fns.append(partial(WandbCallback, input_type='images'))"
   ]
  },
  {
   "cell_type": "code",
   "execution_count": null,
   "metadata": {},
   "outputs": [],
   "source": [
    "do_fit(learn_gen, epochs, gen_name+\"_256px_0\")"
   ]
  },
  {
   "cell_type": "code",
   "execution_count": null,
   "metadata": {},
   "outputs": [],
   "source": [
    "learn_gen.unfreeze()"
   ]
  },
  {
   "cell_type": "code",
   "execution_count": null,
   "metadata": {},
   "outputs": [],
   "source": [
    "do_fit(learn_gen, epochs, gen_name+\"_256px_1\", slice(1e-6,1e-4), pct_start=0.3)"
   ]
  },
  {
   "cell_type": "code",
   "execution_count": null,
   "metadata": {},
   "outputs": [],
   "source": [
    "learn_gen = None\n",
    "gc.collect()"
   ]
  }
 ],
 "metadata": {
  "kernelspec": {
   "display_name": "Python 3",
   "language": "python",
   "name": "python3"
  },
  "language_info": {
   "codemirror_mode": {
    "name": "ipython",
    "version": 3
   },
   "file_extension": ".py",
   "mimetype": "text/x-python",
   "name": "python",
   "nbconvert_exporter": "python",
   "pygments_lexer": "ipython3",
   "version": "3.7.4"
  }
 },
 "nbformat": 4,
 "nbformat_minor": 2
}
