{
  "nbformat": 4,
  "nbformat_minor": 0,
  "metadata": {
    "colab": {
      "provenance": [],
      "collapsed_sections": [],
      "include_colab_link": true
    },
    "kernelspec": {
      "name": "python3",
      "display_name": "Python 3"
    },
    "accelerator": "GPU"
  },
  "cells": [
    {
      "cell_type": "markdown",
      "metadata": {
        "id": "view-in-github",
        "colab_type": "text"
      },
      "source": [
        "<a href=\"https://colab.research.google.com/github/Limitlessmatrix/Artifact_Removal_GAN/blob/master/Copy_of_3D_Ken_Burns_multiple.ipynb\" target=\"_parent\"><img src=\"https://colab.research.google.com/assets/colab-badge.svg\" alt=\"Open In Colab\"/></a>"
      ]
    },
    {
      "cell_type": "markdown",
      "metadata": {
        "id": "uCEixJujApc8"
      },
      "source": [
        "# 3D Ken Burns\n",
        "This is a reference implementation of 3D Ken Burns Effect from a Single Image [1] using PyTorch. Given a single input image, it animates this still image with a virtual camera scan and zoom subject to motion parallax. Should you be making use of our work, please cite our paper [1].\n",
        "\n",
        "<a href=\"https://arxiv.org/abs/1909.05483\" rel=\"Paper\"><img src=\"http://content.sniklaus.com/kenburns/paper.jpg\" alt=\"Paper\" width=\"100%\"></a>\n"
      ]
    },
    {
      "cell_type": "markdown",
      "metadata": {
        "id": "cJFpObViMXDH"
      },
      "source": [
        "> Colab created by [Manuel Romero](https://twitter.com/mrm8488)"
      ]
    },
    {
      "cell_type": "markdown",
      "metadata": {
        "id": "YXK9VNecNQEF"
      },
      "source": [
        "### 1. Clone the project"
      ]
    },
    {
      "cell_type": "code",
      "metadata": {
        "id": "ZbYRw_GlCL5w",
        "outputId": "f88c45fa-cedd-48f6-d86b-178ec9a5d701",
        "colab": {
          "base_uri": "https://localhost:8080/"
        }
      },
      "source": [
        "!git clone https://github.com/sniklaus/3d-ken-burns.git"
      ],
      "execution_count": null,
      "outputs": [
        {
          "output_type": "stream",
          "name": "stdout",
          "text": [
            "Cloning into '3d-ken-burns'...\n",
            "remote: Enumerating objects: 202, done.\u001b[K\n",
            "remote: Total 202 (delta 0), reused 0 (delta 0), pack-reused 202\u001b[K\n",
            "Receiving objects: 100% (202/202), 345.75 KiB | 1.48 MiB/s, done.\n",
            "Resolving deltas: 100% (126/126), done.\n"
          ]
        }
      ]
    },
    {
      "cell_type": "markdown",
      "metadata": {
        "id": "06tpWil4A6Ck"
      },
      "source": [
        "### 2. Download pretrained models"
      ]
    },
    {
      "cell_type": "code",
      "metadata": {
        "id": "jy-x7Cm7AymM",
        "outputId": "ff41812b-6c4e-49e6-fbc2-a7fdae3d23d0",
        "colab": {
          "base_uri": "https://localhost:8080/"
        }
      },
      "source": [
        "!wget -O ./3d-ken-burns/models/disparity-estimation.pytorch http://content.sniklaus.com/kenburns/network-disparity.pytorch\n",
        "!wget -O ./3d-ken-burns/models/disparity-refinement.pytorch http://content.sniklaus.com/kenburns/network-refinement.pytorch\n",
        "!wget -O ./3d-ken-burns/models/pointcloud-inpainting.pytorch http://content.sniklaus.com/kenburns/network-inpainting.pytorch"
      ],
      "execution_count": null,
      "outputs": [
        {
          "output_type": "stream",
          "name": "stdout",
          "text": [
            "--2022-09-12 07:33:18--  http://content.sniklaus.com/kenburns/network-disparity.pytorch\n",
            "Resolving content.sniklaus.com (content.sniklaus.com)... 88.198.95.97\n",
            "Connecting to content.sniklaus.com (content.sniklaus.com)|88.198.95.97|:80... connected.\n",
            "HTTP request sent, awaiting response... 200 OK\n",
            "Length: 357438463 (341M) [application/octet-stream]\n",
            "Saving to: ‘./3d-ken-burns/models/disparity-estimation.pytorch’\n",
            "\n",
            "./3d-ken-burns/mode 100%[===================>] 340.88M  14.6MB/s    in 25s     \n",
            "\n",
            "2022-09-12 07:33:43 (13.7 MB/s) - ‘./3d-ken-burns/models/disparity-estimation.pytorch’ saved [357438463/357438463]\n",
            "\n",
            "--2022-09-12 07:33:43--  http://content.sniklaus.com/kenburns/network-refinement.pytorch\n",
            "Resolving content.sniklaus.com (content.sniklaus.com)... 88.198.95.97\n",
            "Connecting to content.sniklaus.com (content.sniklaus.com)|88.198.95.97|:80... connected.\n",
            "HTTP request sent, awaiting response... 200 OK\n",
            "Length: 2438928 (2.3M) [application/octet-stream]\n",
            "Saving to: ‘./3d-ken-burns/models/disparity-refinement.pytorch’\n",
            "\n",
            "./3d-ken-burns/mode 100%[===================>]   2.33M  1.73MB/s    in 1.3s    \n",
            "\n",
            "2022-09-12 07:33:45 (1.73 MB/s) - ‘./3d-ken-burns/models/disparity-refinement.pytorch’ saved [2438928/2438928]\n",
            "\n",
            "--2022-09-12 07:33:45--  http://content.sniklaus.com/kenburns/network-inpainting.pytorch\n",
            "Resolving content.sniklaus.com (content.sniklaus.com)... 88.198.95.97\n",
            "Connecting to content.sniklaus.com (content.sniklaus.com)|88.198.95.97|:80... connected.\n",
            "HTTP request sent, awaiting response... 200 OK\n",
            "Length: 33179067 (32M) [application/octet-stream]\n",
            "Saving to: ‘./3d-ken-burns/models/pointcloud-inpainting.pytorch’\n",
            "\n",
            "./3d-ken-burns/mode 100%[===================>]  31.64M  9.07MB/s    in 3.5s    \n",
            "\n",
            "2022-09-12 07:33:49 (9.07 MB/s) - ‘./3d-ken-burns/models/pointcloud-inpainting.pytorch’ saved [33179067/33179067]\n",
            "\n"
          ]
        }
      ]
    },
    {
      "cell_type": "code",
      "metadata": {
        "id": "w5PBRLqUGYbk",
        "outputId": "29a67bbe-ee02-4678-b3bf-84e3350e0c57",
        "colab": {
          "base_uri": "https://localhost:8080/"
        }
      },
      "source": [
        "!pip install chainer\n",
        "import chainer\n",
        "chainer.print_runtime_info()"
      ],
      "execution_count": null,
      "outputs": [
        {
          "output_type": "stream",
          "name": "stdout",
          "text": [
            "Looking in indexes: https://pypi.org/simple, https://us-python.pkg.dev/colab-wheels/public/simple/\n",
            "Collecting chainer\n",
            "  Downloading chainer-7.8.1.tar.gz (1.0 MB)\n",
            "\u001b[K     |████████████████████████████████| 1.0 MB 33.2 MB/s \n",
            "\u001b[?25hRequirement already satisfied: setuptools in /usr/local/lib/python3.7/dist-packages (from chainer) (57.4.0)\n",
            "Requirement already satisfied: typing_extensions in /usr/local/lib/python3.7/dist-packages (from chainer) (4.1.1)\n",
            "Requirement already satisfied: filelock in /usr/local/lib/python3.7/dist-packages (from chainer) (3.8.0)\n",
            "Requirement already satisfied: numpy>=1.9.0 in /usr/local/lib/python3.7/dist-packages (from chainer) (1.21.6)\n",
            "Requirement already satisfied: protobuf>=3.0.0 in /usr/local/lib/python3.7/dist-packages (from chainer) (3.17.3)\n",
            "Requirement already satisfied: six>=1.9.0 in /usr/local/lib/python3.7/dist-packages (from chainer) (1.15.0)\n",
            "Building wheels for collected packages: chainer\n",
            "  Building wheel for chainer (setup.py) ... \u001b[?25l\u001b[?25hdone\n",
            "  Created wheel for chainer: filename=chainer-7.8.1-py3-none-any.whl size=967740 sha256=c69d2d730bbfb2c313baad8dff4366fcc41fe810c29d3af27593778fb264407a\n",
            "  Stored in directory: /root/.cache/pip/wheels/c8/6a/6f/fd563166cc597e5206e375ea074ea836e5db5dd58421215672\n",
            "Successfully built chainer\n",
            "Installing collected packages: chainer\n",
            "Successfully installed chainer-7.8.1\n"
          ]
        },
        {
          "output_type": "stream",
          "name": "stderr",
          "text": [
            "/usr/local/lib/python3.7/dist-packages/chainer/_environment_check.py:75: UserWarning: \n",
            "--------------------------------------------------------------------------------\n",
            "CuPy (cupy-cuda111) version 9.4.0 may not be compatible with this version of Chainer.\n",
            "Please consider installing the supported version by running:\n",
            "  $ pip install 'cupy-cuda111>=7.7.0,<8.0.0'\n",
            "\n",
            "See the following page for more details:\n",
            "  https://docs.cupy.dev/en/latest/install.html\n",
            "--------------------------------------------------------------------------------\n",
            "\n",
            "  requirement=requirement, help=help))\n"
          ]
        },
        {
          "output_type": "stream",
          "name": "stdout",
          "text": [
            "Platform: Linux-5.10.133+-x86_64-with-Ubuntu-18.04-bionic\n",
            "Chainer: 7.8.1\n",
            "ChainerX: Not Available\n",
            "NumPy: 1.21.6\n",
            "CuPy:\n",
            "  OS                           : Linux-5.10.133+-x86_64-with-Ubuntu-18.04-bionic\n",
            "  Python Version               : 3.7.13\n",
            "  CuPy Version                 : 9.4.0\n",
            "  CuPy Platform                : NVIDIA CUDA\n",
            "  NumPy Version                : 1.21.6\n",
            "  SciPy Version                : 1.7.3\n",
            "  Cython Build Version         : 0.29.22\n",
            "  Cython Runtime Version       : 0.29.32\n",
            "  CUDA Root                    : /usr/local/cuda\n",
            "  nvcc PATH                    : /usr/local/cuda/bin/nvcc\n",
            "  CUDA Build Version           : 11010\n",
            "  CUDA Driver Version          : 11020\n",
            "  CUDA Runtime Version         : 11010\n",
            "  cuBLAS Version               : 11300\n",
            "  cuFFT Version                : 10300\n",
            "  cuRAND Version               : 10202\n",
            "  cuSOLVER Version             : (11, 0, 1)\n",
            "  cuSPARSE Version             : 11300\n",
            "  NVRTC Version                : (11, 1)\n",
            "  Thrust Version               : 100910\n",
            "  CUB Build Version            : 100910\n",
            "  Jitify Build Version         : 60e9e72\n",
            "  cuDNN Build Version          : 8202\n",
            "  cuDNN Version                : 8005\n",
            "  NCCL Build Version           : 2804\n",
            "  NCCL Runtime Version         : 2804\n",
            "  cuTENSOR Version             : None\n",
            "  cuSPARSELt Build Version     : None\n",
            "  Device 0 Name                : Tesla T4\n",
            "  Device 0 Compute Capability  : 75\n",
            "  Device 0 PCI Bus ID          : 0000:00:04.0\n",
            "iDeep: Not Available\n"
          ]
        }
      ]
    },
    {
      "cell_type": "code",
      "metadata": {
        "id": "EkrEO7vIIPym"
      },
      "source": [
        "import os\n",
        "os.environ['CUDA_HOME'] = \"/usr/local/cuda\""
      ],
      "execution_count": null,
      "outputs": []
    },
    {
      "cell_type": "code",
      "metadata": {
        "id": "vtd0th84B0Zg",
        "outputId": "2f83dfdc-efb4-4680-9ab2-3c153c931c3a",
        "colab": {
          "base_uri": "https://localhost:8080/"
        }
      },
      "source": [
        "!pip install moviepy"
      ],
      "execution_count": null,
      "outputs": [
        {
          "output_type": "stream",
          "name": "stdout",
          "text": [
            "Looking in indexes: https://pypi.org/simple, https://us-python.pkg.dev/colab-wheels/public/simple/\n",
            "Requirement already satisfied: moviepy in /usr/local/lib/python3.7/dist-packages (0.2.3.5)\n",
            "Requirement already satisfied: numpy in /usr/local/lib/python3.7/dist-packages (from moviepy) (1.21.6)\n",
            "Requirement already satisfied: tqdm<5.0,>=4.11.2 in /usr/local/lib/python3.7/dist-packages (from moviepy) (4.64.0)\n",
            "Requirement already satisfied: decorator<5.0,>=4.0.2 in /usr/local/lib/python3.7/dist-packages (from moviepy) (4.4.2)\n",
            "Requirement already satisfied: imageio<3.0,>=2.1.2 in /usr/local/lib/python3.7/dist-packages (from moviepy) (2.9.0)\n",
            "Requirement already satisfied: pillow in /usr/local/lib/python3.7/dist-packages (from imageio<3.0,>=2.1.2->moviepy) (7.1.2)\n"
          ]
        }
      ]
    },
    {
      "cell_type": "code",
      "metadata": {
        "id": "xXFs3ii5Co82",
        "outputId": "02f6569f-a84c-4b99-da30-8d016d090f68",
        "colab": {
          "base_uri": "https://localhost:8080/"
        }
      },
      "source": [
        "cd /content/3d-ken-burns"
      ],
      "execution_count": null,
      "outputs": [
        {
          "output_type": "stream",
          "name": "stdout",
          "text": [
            "/content/3d-ken-burns\n"
          ]
        }
      ]
    },
    {
      "cell_type": "code",
      "metadata": {
        "id": "2z5hGImGGOEj"
      },
      "source": [
        "!rm images/README.md\n",
        "!mkdir results"
      ],
      "execution_count": null,
      "outputs": []
    },
    {
      "cell_type": "markdown",
      "metadata": {
        "id": "ndl8FGKxM_hk"
      },
      "source": [
        "### 3. Upload several a pictures from your filesystem"
      ]
    },
    {
      "cell_type": "code",
      "metadata": {
        "id": "wgRSDEfRJ6ha",
        "outputId": "196d9df5-f5ed-40a4-ccce-de55258c9426",
        "colab": {
          "base_uri": "https://localhost:8080/",
          "height": 403
        }
      },
      "source": [
        "from google.colab import files\n",
        "\n",
        "uploaded = files.upload()\n",
        "for filename in uploaded.keys():\n",
        "  !mv ./$filename ./images/$filename"
      ],
      "execution_count": null,
      "outputs": [
        {
          "output_type": "display_data",
          "data": {
            "text/plain": [
              "<IPython.core.display.HTML object>"
            ],
            "text/html": [
              "\n",
              "     <input type=\"file\" id=\"files-f3db3f02-aafc-429e-bd85-5b58fd882c0c\" name=\"files[]\" multiple disabled\n",
              "        style=\"border:none\" />\n",
              "     <output id=\"result-f3db3f02-aafc-429e-bd85-5b58fd882c0c\">\n",
              "      Upload widget is only available when the cell has been executed in the\n",
              "      current browser session. Please rerun this cell to enable.\n",
              "      </output>\n",
              "      <script src=\"/nbextensions/google.colab/files.js\"></script> "
            ]
          },
          "metadata": {}
        },
        {
          "output_type": "error",
          "ename": "MessageError",
          "evalue": "ignored",
          "traceback": [
            "\u001b[0;31m---------------------------------------------------------------------------\u001b[0m",
            "\u001b[0;31mMessageError\u001b[0m                              Traceback (most recent call last)",
            "\u001b[0;32m<ipython-input-11-7539b3015212>\u001b[0m in \u001b[0;36m<module>\u001b[0;34m\u001b[0m\n\u001b[1;32m      1\u001b[0m \u001b[0;32mfrom\u001b[0m \u001b[0mgoogle\u001b[0m\u001b[0;34m.\u001b[0m\u001b[0mcolab\u001b[0m \u001b[0;32mimport\u001b[0m \u001b[0mfiles\u001b[0m\u001b[0;34m\u001b[0m\u001b[0;34m\u001b[0m\u001b[0m\n\u001b[1;32m      2\u001b[0m \u001b[0;34m\u001b[0m\u001b[0m\n\u001b[0;32m----> 3\u001b[0;31m \u001b[0muploaded\u001b[0m \u001b[0;34m=\u001b[0m \u001b[0mfiles\u001b[0m\u001b[0;34m.\u001b[0m\u001b[0mupload\u001b[0m\u001b[0;34m(\u001b[0m\u001b[0;34m)\u001b[0m\u001b[0;34m\u001b[0m\u001b[0;34m\u001b[0m\u001b[0m\n\u001b[0m\u001b[1;32m      4\u001b[0m \u001b[0;32mfor\u001b[0m \u001b[0mfilename\u001b[0m \u001b[0;32min\u001b[0m \u001b[0muploaded\u001b[0m\u001b[0;34m.\u001b[0m\u001b[0mkeys\u001b[0m\u001b[0;34m(\u001b[0m\u001b[0;34m)\u001b[0m\u001b[0;34m:\u001b[0m\u001b[0;34m\u001b[0m\u001b[0;34m\u001b[0m\u001b[0m\n\u001b[1;32m      5\u001b[0m   \u001b[0mget_ipython\u001b[0m\u001b[0;34m(\u001b[0m\u001b[0;34m)\u001b[0m\u001b[0;34m.\u001b[0m\u001b[0msystem\u001b[0m\u001b[0;34m(\u001b[0m\u001b[0;34m'mv ./$filename ./images/$filename'\u001b[0m\u001b[0;34m)\u001b[0m\u001b[0;34m\u001b[0m\u001b[0;34m\u001b[0m\u001b[0m\n",
            "\u001b[0;32m/usr/local/lib/python3.7/dist-packages/google/colab/files.py\u001b[0m in \u001b[0;36mupload\u001b[0;34m()\u001b[0m\n\u001b[1;32m     39\u001b[0m   \"\"\"\n\u001b[1;32m     40\u001b[0m \u001b[0;34m\u001b[0m\u001b[0m\n\u001b[0;32m---> 41\u001b[0;31m   \u001b[0muploaded_files\u001b[0m \u001b[0;34m=\u001b[0m \u001b[0m_upload_files\u001b[0m\u001b[0;34m(\u001b[0m\u001b[0mmultiple\u001b[0m\u001b[0;34m=\u001b[0m\u001b[0;32mTrue\u001b[0m\u001b[0;34m)\u001b[0m\u001b[0;34m\u001b[0m\u001b[0;34m\u001b[0m\u001b[0m\n\u001b[0m\u001b[1;32m     42\u001b[0m   \u001b[0;31m# Mapping from original filename to filename as saved locally.\u001b[0m\u001b[0;34m\u001b[0m\u001b[0;34m\u001b[0m\u001b[0;34m\u001b[0m\u001b[0m\n\u001b[1;32m     43\u001b[0m   \u001b[0mlocal_filenames\u001b[0m \u001b[0;34m=\u001b[0m \u001b[0mdict\u001b[0m\u001b[0;34m(\u001b[0m\u001b[0;34m)\u001b[0m\u001b[0;34m\u001b[0m\u001b[0;34m\u001b[0m\u001b[0m\n",
            "\u001b[0;32m/usr/local/lib/python3.7/dist-packages/google/colab/files.py\u001b[0m in \u001b[0;36m_upload_files\u001b[0;34m(multiple)\u001b[0m\n\u001b[1;32m    116\u001b[0m   result = _output.eval_js(\n\u001b[1;32m    117\u001b[0m       'google.colab._files._uploadFiles(\"{input_id}\", \"{output_id}\")'.format(\n\u001b[0;32m--> 118\u001b[0;31m           input_id=input_id, output_id=output_id))\n\u001b[0m\u001b[1;32m    119\u001b[0m   \u001b[0mfiles\u001b[0m \u001b[0;34m=\u001b[0m \u001b[0m_collections\u001b[0m\u001b[0;34m.\u001b[0m\u001b[0mdefaultdict\u001b[0m\u001b[0;34m(\u001b[0m\u001b[0mbytes\u001b[0m\u001b[0;34m)\u001b[0m\u001b[0;34m\u001b[0m\u001b[0;34m\u001b[0m\u001b[0m\n\u001b[1;32m    120\u001b[0m \u001b[0;34m\u001b[0m\u001b[0m\n",
            "\u001b[0;32m/usr/local/lib/python3.7/dist-packages/google/colab/output/_js.py\u001b[0m in \u001b[0;36meval_js\u001b[0;34m(script, ignore_result, timeout_sec)\u001b[0m\n\u001b[1;32m     38\u001b[0m   \u001b[0;32mif\u001b[0m \u001b[0mignore_result\u001b[0m\u001b[0;34m:\u001b[0m\u001b[0;34m\u001b[0m\u001b[0;34m\u001b[0m\u001b[0m\n\u001b[1;32m     39\u001b[0m     \u001b[0;32mreturn\u001b[0m\u001b[0;34m\u001b[0m\u001b[0;34m\u001b[0m\u001b[0m\n\u001b[0;32m---> 40\u001b[0;31m   \u001b[0;32mreturn\u001b[0m \u001b[0m_message\u001b[0m\u001b[0;34m.\u001b[0m\u001b[0mread_reply_from_input\u001b[0m\u001b[0;34m(\u001b[0m\u001b[0mrequest_id\u001b[0m\u001b[0;34m,\u001b[0m \u001b[0mtimeout_sec\u001b[0m\u001b[0;34m)\u001b[0m\u001b[0;34m\u001b[0m\u001b[0;34m\u001b[0m\u001b[0m\n\u001b[0m\u001b[1;32m     41\u001b[0m \u001b[0;34m\u001b[0m\u001b[0m\n\u001b[1;32m     42\u001b[0m \u001b[0;34m\u001b[0m\u001b[0m\n",
            "\u001b[0;32m/usr/local/lib/python3.7/dist-packages/google/colab/_message.py\u001b[0m in \u001b[0;36mread_reply_from_input\u001b[0;34m(message_id, timeout_sec)\u001b[0m\n\u001b[1;32m    100\u001b[0m         reply.get('colab_msg_id') == message_id):\n\u001b[1;32m    101\u001b[0m       \u001b[0;32mif\u001b[0m \u001b[0;34m'error'\u001b[0m \u001b[0;32min\u001b[0m \u001b[0mreply\u001b[0m\u001b[0;34m:\u001b[0m\u001b[0;34m\u001b[0m\u001b[0;34m\u001b[0m\u001b[0m\n\u001b[0;32m--> 102\u001b[0;31m         \u001b[0;32mraise\u001b[0m \u001b[0mMessageError\u001b[0m\u001b[0;34m(\u001b[0m\u001b[0mreply\u001b[0m\u001b[0;34m[\u001b[0m\u001b[0;34m'error'\u001b[0m\u001b[0;34m]\u001b[0m\u001b[0;34m)\u001b[0m\u001b[0;34m\u001b[0m\u001b[0;34m\u001b[0m\u001b[0m\n\u001b[0m\u001b[1;32m    103\u001b[0m       \u001b[0;32mreturn\u001b[0m \u001b[0mreply\u001b[0m\u001b[0;34m.\u001b[0m\u001b[0mget\u001b[0m\u001b[0;34m(\u001b[0m\u001b[0;34m'data'\u001b[0m\u001b[0;34m,\u001b[0m \u001b[0;32mNone\u001b[0m\u001b[0;34m)\u001b[0m\u001b[0;34m\u001b[0m\u001b[0;34m\u001b[0m\u001b[0m\n\u001b[1;32m    104\u001b[0m \u001b[0;34m\u001b[0m\u001b[0m\n",
            "\u001b[0;31mMessageError\u001b[0m: TypeError: google.colab._files is undefined"
          ]
        }
      ]
    },
    {
      "cell_type": "markdown",
      "metadata": {
        "id": "Daw9Ptv5P_EG"
      },
      "source": [
        "### 4. Apply (bulk) 3D Ken Burns Effect"
      ]
    },
    {
      "cell_type": "code",
      "metadata": {
        "id": "H_6mgeGBDdVD",
        "outputId": "9da2e311-159e-4dec-9d42-b6a5377861ab",
        "colab": {
          "base_uri": "https://localhost:8080/"
        }
      },
      "source": [
        "!for image in ./images/*; do python autozoom.py --in $image --out ./results/$(basename $image | cut -f1 -d '.').mp4; done"
      ],
      "execution_count": null,
      "outputs": [
        {
          "output_type": "stream",
          "name": "stdout",
          "text": [
            "Traceback (most recent call last):\n",
            "  File \"autozoom.py\", line 8, in <module>\n",
            "    import gevent\n",
            "ModuleNotFoundError: No module named 'gevent'\n"
          ]
        }
      ]
    },
    {
      "cell_type": "markdown",
      "metadata": {
        "id": "wOyjsg55NeI0"
      },
      "source": [
        "#### Now you have all your videos under the folder **results** and you can *manually* right click and download them.\n",
        "\n",
        "### If you want to *automatically* download all the videos run the following cell:"
      ]
    },
    {
      "cell_type": "code",
      "metadata": {
        "id": "7vYU0HNyP2Yu"
      },
      "source": [
        "for filename in os.listdir(\"./results\"):\n",
        "  extension = os.path.splitext(filename)[-1].lower()\n",
        "  if extension == \".mp4\":\n",
        "    files.download(\"./results/\" + filename)\n"
      ],
      "execution_count": null,
      "outputs": []
    },
    {
      "cell_type": "markdown",
      "metadata": {
        "id": "72XSBhKkPKMA"
      },
      "source": [
        " Did you enjoy? Buy me a coffe :)\n",
        " \n",
        "[![ko-fi](https://www.ko-fi.com/img/githubbutton_sm.svg)](https://ko-fi.com/Y8Y3VYYE)"
      ]
    }
  ]
}