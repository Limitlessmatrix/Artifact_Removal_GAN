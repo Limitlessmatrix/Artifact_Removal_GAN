{
 "cells": [
  {
   "cell_type": "code",
   "execution_count": 1,
   "metadata": {},
   "outputs": [],
   "source": [
    "import os\n",
    "os.environ['CUDA_VISIBLE_DEVICES']='0'\n",
    "\n",
    "import torch\n",
    "from fastai.vision import *\n",
    "import superRes.fid_score as fs\n",
    "from superRes.dataset import *\n",
    "from superRes.fid_loss import *\n",
    "from superRes.inception import InceptionV3"
   ]
  },
  {
   "cell_type": "code",
   "execution_count": 2,
   "metadata": {},
   "outputs": [],
   "source": [
    "path = untar_data(URLs.PETS)\n",
    "\n",
    "path_fullRes = path/'images'\n",
    "path_sampleImagesFullRes = path/'sampleImagesFullRes' # 10 img sample full res\n",
    "path_sampleImagesLowRes = path/'sampleImagesLowRes'# same 10 img sample but low res\n",
    "\n",
    "low = ImageList.from_folder(path_sampleImagesLowRes)\n",
    "full = ImageList.from_folder(path_sampleImagesFullRes)"
   ]
  },
  {
   "cell_type": "code",
   "execution_count": 3,
   "metadata": {},
   "outputs": [],
   "source": [
    "def get_databunch(\n",
    "    sz: int,\n",
    "    bs: int,\n",
    "    crappy_path: Path,\n",
    "    good_path: Path,\n",
    "    random_seed: int = 42,\n",
    "    keep_pct: float = 1.0,\n",
    "    num_workers: int = 8,\n",
    "    xtra_tfms=[],\n",
    ") -> ImageDataBunch:\n",
    "\n",
    "    src = (\n",
    "        ImageImageList.from_folder(crappy_path)\n",
    "        .split_none()\n",
    "    )\n",
    "\n",
    "    data = (\n",
    "        src.label_from_func(lambda x: good_path / x.relative_to(crappy_path))\n",
    "        .transform(\n",
    "            get_transforms(\n",
    "                max_zoom=1.\n",
    "            ),\n",
    "            size=sz,\n",
    "            tfm_y=True,\n",
    "        )\n",
    "        .databunch(bs=bs, num_workers=num_workers, no_check=True)\n",
    "    )\n",
    "\n",
    "    data.c = 3\n",
    "    return data\n",
    "\n",
    "def get_data(bs:int, sz:int, keep_pct:float):\n",
    "    return get_databunch(sz=sz, bs=bs, crappy_path=path_sampleImagesLowRes, \n",
    "                         good_path=path_sampleImagesFullRes, \n",
    "                         random_seed=None, keep_pct=keep_pct)"
   ]
  },
  {
   "cell_type": "code",
   "execution_count": 4,
   "metadata": {},
   "outputs": [],
   "source": [
    "data = get_data(bs=10, sz=256, keep_pct=1.)\n",
    "# data.show_batch()\n",
    "x, y = data.one_batch()"
   ]
  },
  {
   "cell_type": "code",
   "execution_count": 5,
   "metadata": {},
   "outputs": [
    {
     "data": {
      "text/plain": [
       "37.65856072143356"
      ]
     },
     "execution_count": 5,
     "metadata": {},
     "output_type": "execute_result"
    }
   ],
   "source": [
    "calculate_fid(x, y, True, 2048)"
   ]
  }
 ],
 "metadata": {
  "kernelspec": {
   "display_name": "Python 3",
   "language": "python",
   "name": "python3"
  },
  "language_info": {
   "codemirror_mode": {
    "name": "ipython",
    "version": 3
   },
   "file_extension": ".py",
   "mimetype": "text/x-python",
   "name": "python",
   "nbconvert_exporter": "python",
   "pygments_lexer": "ipython3",
   "version": "3.6.9"
  }
 },
 "nbformat": 4,
 "nbformat_minor": 2
}
